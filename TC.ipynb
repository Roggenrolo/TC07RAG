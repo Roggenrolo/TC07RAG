{
 "cells": [
  {
   "cell_type": "markdown",
   "metadata": {},
   "source": [
    "# Tarea 07 - Chatbot RAG\n",
    "\n",
    "***Inteligencia Artificial***\n",
    "\n",
    "***II Semestre 2024***\n",
    "\n",
    "***Tecnológico de Costa Rica***\n",
    "\n",
    "Estudiantes: \n",
    "- Esteban Guzmán\n",
    "- Rolando Mora"
   ]
  },
  {
   "cell_type": "markdown",
   "metadata": {},
   "source": [
    "## Parte 1: Preparación del Corpus y Cálculo de Embeddings\n",
    "\n",
    "### Elección del Dataset\n",
    "\n",
    "Se escogió el dataset de `BBC Full Text Document Classification` del sitio web de [Kaggle](https://www.kaggle.com/datasets/shivamkushwaha/bbc-full-text-document-classification)."
   ]
  }
 ],
 "metadata": {
  "language_info": {
   "name": "python"
  }
 },
 "nbformat": 4,
 "nbformat_minor": 2
}
