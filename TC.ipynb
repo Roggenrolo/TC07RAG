{
 "cells": [
  {
   "cell_type": "markdown",
   "metadata": {},
   "source": [
    "# Tarea 07 - Chatbot RAG\n",
    "\n",
    "***Inteligencia Artificial***\n",
    "\n",
    "***II Semestre 2024***\n",
    "\n",
    "***Tecnológico de Costa Rica***\n",
    "\n",
    "Estudiantes: \n",
    "- Esteban Guzmán\n",
    "- Rolando Mora"
   ]
  },
  {
   "cell_type": "code",
   "execution_count": 14,
   "metadata": {},
   "outputs": [],
   "source": [
    "import os\n",
    "import re\n",
    "from pinecone.grpc import PineconeGRPC as Pinecone\n",
    "from pinecone import ServerlessSpec\n",
    "from sentence_transformers import SentenceTransformer\n",
    "\n",
    "MAX_ARTICLES = 10"
   ]
  },
  {
   "cell_type": "markdown",
   "metadata": {},
   "source": [
    "## Parte 1: Preparación del Corpus y Cálculo de Embeddings\n",
    "\n",
    "### 1. Elección del Dataset\n",
    "\n",
    "Se escogió el dataset de `BBC Full Text Document Classification` del sitio web de [Kaggle](https://www.kaggle.com/datasets/shivamkushwaha/bbc-full-text-document-classification).\n",
    "\n",
    "Se usarán los datos referentes a tecnología."
   ]
  },
  {
   "cell_type": "code",
   "execution_count": 28,
   "metadata": {},
   "outputs": [],
   "source": [
    "# Extraemos el contenido de los artículos\n",
    "def extract_articles(folder_path: str) -> list[str]:\n",
    "\tarticles = []\n",
    "\tfor filename in os.listdir(folder_path)[:MAX_ARTICLES]:\n",
    "\t\twith open(os.path.join(folder_path, filename), \"r\", encoding=\"utf-8\") as file:\n",
    "\t\t\tcontent = file.read()\n",
    "\t\t\tarticles.append(\"content\")\n",
    "\treturn articles"
   ]
  },
  {
   "cell_type": "markdown",
   "metadata": {},
   "source": [
    "### 2. Preprocesamiento"
   ]
  },
  {
   "cell_type": "code",
   "execution_count": 40,
   "metadata": {},
   "outputs": [],
   "source": [
    "# Limpiar el texto\n",
    "def clean_text(text):\n",
    "    text = text.lower()  # Convertir a minúsculas\n",
    "    text = re.sub(r'[^a-zA-Záéíóúñü\\s.]', '', text)  # Eliminar caracteres especiales, manteniendo puntos\n",
    "    text = re.sub(r'\\s+', ' ', text).strip()  # Eliminar espacios extra\n",
    "    return text\n",
    "\n",
    "# Segmentar el texto en párrafos de 4 oraciones\n",
    "def segment_text(text, sentences_per_fragment=4):\n",
    "    # Dividir el texto en oraciones\n",
    "    sentences = text.split(\".\")\n",
    "    start = 0\n",
    "    fragments = []\n",
    "    # Separa el texto en la cantidad de oraciones\n",
    "    while start < len(sentences):\n",
    "        end = start + sentences_per_fragment\n",
    "        fragments.append(\". \".join(sentences[start:end]))\n",
    "        start = end\n",
    "    return fragments"
   ]
  },
  {
   "cell_type": "markdown",
   "metadata": {},
   "source": [
    "### 3. Generación de Embeddings"
   ]
  },
  {
   "cell_type": "code",
   "execution_count": 46,
   "metadata": {},
   "outputs": [],
   "source": [
    "def generate_embeddings(articles):\n",
    "\tpc = Pinecone(api_key=\"81002466-39d5-4599-a684-9b08a1c70aee\")\n",
    "\tplain_articles = [paragraph for article in articles for paragraph in article]\n",
    "\n",
    "\tembeddings = pc.inference.embed(\n",
    "\t\tmodel=\"multilingual-e5-large\",\n",
    "\t\tinputs=plain_articles,\n",
    "\t\tparameters={\"input_type\": \"passage\", \"truncate\": \"END\"}\n",
    "\t)"
   ]
  },
  {
   "cell_type": "markdown",
   "metadata": {},
   "source": [
    "---"
   ]
  },
  {
   "cell_type": "code",
   "execution_count": 47,
   "metadata": {},
   "outputs": [],
   "source": [
    "articles = extract_articles(\"./dataset/bbc-fulltext (document classification)/bbc/tech\")\n",
    "articles = list(map(clean_text, articles))\n",
    "articles = list(map(segment_text, articles[:1]))\n",
    "generate_embeddings(articles)"
   ]
  }
 ],
 "metadata": {
  "kernelspec": {
   "display_name": "Python 3",
   "language": "python",
   "name": "python3"
  },
  "language_info": {
   "codemirror_mode": {
    "name": "ipython",
    "version": 3
   },
   "file_extension": ".py",
   "mimetype": "text/x-python",
   "name": "python",
   "nbconvert_exporter": "python",
   "pygments_lexer": "ipython3",
   "version": "3.10.7"
  }
 },
 "nbformat": 4,
 "nbformat_minor": 2
}
